{
 "cells": [
  {
   "cell_type": "markdown",
   "id": "40bb3af3",
   "metadata": {},
   "source": [
    "# 2. Analysing the Reviews"
   ]
  },
  {
   "cell_type": "markdown",
   "id": "4987bdb1",
   "metadata": {},
   "source": [
    "## Calculating Text Metrics"
   ]
  },
  {
   "cell_type": "markdown",
   "id": "c2eb414b",
   "metadata": {},
   "source": [
    "## Counting Stopwords"
   ]
  }
 ],
 "metadata": {
  "language_info": {
   "name": "python"
  }
 },
 "nbformat": 4,
 "nbformat_minor": 5
}
