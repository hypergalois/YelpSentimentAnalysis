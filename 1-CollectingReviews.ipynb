{
 "cells": [
  {
   "cell_type": "markdown",
   "id": "b6a4aa1d",
   "metadata": {},
   "source": [
    "# 1. Collecting Reviews"
   ]
  },
  {
   "cell_type": "markdown",
   "id": "a16c1fe3",
   "metadata": {},
   "source": [
    "## Setting Up Beautiful Soup and Requests"
   ]
  },
  {
   "cell_type": "markdown",
   "id": "1442d8b5",
   "metadata": {},
   "source": [
    "## Convert Text to Soup"
   ]
  },
  {
   "cell_type": "markdown",
   "id": "bf2d6741",
   "metadata": {},
   "source": [
    "## Scraping Multiple Pages"
   ]
  }
 ],
 "metadata": {
  "language_info": {
   "name": "python"
  }
 },
 "nbformat": 4,
 "nbformat_minor": 5
}
