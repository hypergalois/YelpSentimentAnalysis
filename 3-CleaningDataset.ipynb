{
 "cells": [
  {
   "cell_type": "markdown",
   "id": "001c07e5",
   "metadata": {},
   "source": [
    "# 3. Cleaning the Dataset"
   ]
  },
  {
   "cell_type": "markdown",
   "id": "8ebde6e4",
   "metadata": {},
   "source": [
    "## Lowercasing all Words"
   ]
  },
  {
   "cell_type": "markdown",
   "id": "60f4d52e",
   "metadata": {},
   "source": [
    "## Stripping Punctuation"
   ]
  },
  {
   "cell_type": "markdown",
   "id": "d2083815",
   "metadata": {},
   "source": [
    "## Removing Stopwords"
   ]
  },
  {
   "cell_type": "markdown",
   "id": "31213197",
   "metadata": {},
   "source": [
    "## Visualising Common Words"
   ]
  },
  {
   "cell_type": "markdown",
   "id": "df9b1aac",
   "metadata": {},
   "source": [
    "## Stripping Out Common Words"
   ]
  }
 ],
 "metadata": {
  "language_info": {
   "name": "python"
  }
 },
 "nbformat": 4,
 "nbformat_minor": 5
}
