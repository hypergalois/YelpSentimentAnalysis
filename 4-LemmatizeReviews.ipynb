{
 "cells": [
  {
   "cell_type": "markdown",
   "id": "073a6167",
   "metadata": {},
   "source": [
    "# 4. Lemmatize the Reviews"
   ]
  }
 ],
 "metadata": {
  "language_info": {
   "name": "python"
  }
 },
 "nbformat": 4,
 "nbformat_minor": 5
}
